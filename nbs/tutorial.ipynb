{
 "cells": [
  {
   "cell_type": "code",
   "execution_count": null,
   "metadata": {
    "hide_input": false
   },
   "outputs": [],
   "source": [
    "#|default_exp tutorial\n",
    "from nbprocess.showdoc import show_doc"
   ]
  },
  {
   "cell_type": "markdown",
   "metadata": {},
   "source": [
    "# nbprocess tutorial\n",
    "\n",
    "> A step by step guide\n",
    "\n",
    "- image: images/nbprocess_source.gif"
   ]
  },
  {
   "cell_type": "markdown",
   "metadata": {},
   "source": [
    "nbprocess is a system for *exploratory programming*. In practice, programming in this way can feel very different to the kind of programming many of you will be familiar with, since we've mainly be taught coding techniques that are (at least implicitly) tied to the underlying tools we have access to. I've found that programming in a \"notebook first\" way can make me 2-3x more productive than I was before (when we used vscode, Visual Studio, vim, PyCharm, and similar tools).\n",
    "\n",
    "In this tutorial, I'll try to get you up and running with the basics of the nbprocess system as quickly and easily as possible. You can also watch this video in which I take you through the tutorial, step by step (to view full screen, click the little square in the bottom right of the video; to view in a separate Youtube window, click the Youtube logo):"
   ]
  },
  {
   "cell_type": "markdown",
   "metadata": {},
   "source": [
    "<iframe width=\"560\" height=\"315\" src=\"https://www.youtube-nocookie.com/embed/Hrs7iEYmRmg\" frameborder=\"0\" allow=\"accelerometer; autoplay; encrypted-media; gyroscope; picture-in-picture\" allowfullscreen></iframe>"
   ]
  },
  {
   "cell_type": "markdown",
   "metadata": {},
   "source": [
    "## Set up Your Jupyter Server"
   ]
  },
  {
   "cell_type": "markdown",
   "metadata": {},
   "source": [
    "### Jupyter Environment"
   ]
  },
  {
   "cell_type": "markdown",
   "metadata": {},
   "source": [
    "To complete this tutorial, you'll need a Jupyter Notebook Server configured on your machine. If you have not installed Jupyter before, you may find the [Anaconda Individual Edition](https://www.anaconda.com/products/individual) the simplest to install.\n",
    "\n",
    "If you already have experience with Jupyter, please note that everything in this tutorial must be run using the same kernel."
   ]
  },
  {
   "cell_type": "markdown",
   "metadata": {},
   "source": [
    "### Install `nbprocess`"
   ]
  },
  {
   "cell_type": "markdown",
   "metadata": {},
   "source": [
    "No matter how you installed Jupyter, you'll need to manually install `nbprocess`. You can install nbprocess with `pip` or `conda` from a terminal window:\n",
    "\n",
    "```sh\n",
    "pip install nbprocess\n",
    "```\n",
    "or\n",
    "```sh\n",
    "conda install -c fastai nbprocess\n",
    "```\n",
    "\n",
    "\n",
    "Jupyter notebook has a terminal window available, so we'll use that:\n",
    "1. Start `jupyter notebook`\n",
    "2. From the \"New\" dropdown on the right side, choose `Terminal`.\n",
    "3. Enter \"`python -m pip install nbprocess`\" (or use conda as specified above)\n",
    "\n",
    "When the command completes, you're ready to go."
   ]
  },
  {
   "cell_type": "markdown",
   "metadata": {},
   "source": [
    "## Set up Repo"
   ]
  },
  {
   "cell_type": "markdown",
   "metadata": {},
   "source": [
    "### Create New Project"
   ]
  },
  {
   "cell_type": "markdown",
   "metadata": {},
   "source": [
    "To create your new project repo, use the cli command `nbprocess_new` to **create a new nbprocess project from an existing GitHub repo that you have cloned locally.**  _To create a new GitHub repo locally, we recommend the [gh cli](https://cli.github.com/) tool, which allows you to create a new repo with the command `gh repo create`._\n",
    "\n",
    "Alternatively, you can create a new empty github repository using [this link](https://github.com/new), and follow the instructions on github to clone the repository locally before running the command `nbprocess_new`"
   ]
  },
  {
   "cell_type": "markdown",
   "metadata": {},
   "source": [
    "### GitHub pages"
   ]
  },
  {
   "cell_type": "markdown",
   "metadata": {},
   "source": [
    "The nbprocess system uses [quarto](https://quarto.org/) for documentation. You can host your site for free on [Github Pages](https://pages.github.com/) without any additional setup, so this is the approach we recommend (but it's not required; any static site hosting will work fine).\n",
    "\n",
    "After you setup your repo and push to GitHub following the steps below, GitHub pages will automatically be built and enabled for you using continuous integration CI. We will discuss how CI works later in this tutorial, however for most people this should work by default.\n",
    "\n",
    ">NOTE: Don't expect your Pages to build & deploy properly yet; we still have some setup to do first!\n",
    "\n",
    "#### Previewing Documents Locally \n",
    "\n",
    "It is often desirable to preview the documentation locally before having it built and rendered by GitHub Pages.  This requires you to run Quarto locally. You can run the command `make preview` from the root of your repo to preview the documentation locally."
   ]
  },
  {
   "cell_type": "markdown",
   "metadata": {},
   "source": [
    "## Edit settings.ini"
   ]
  },
  {
   "cell_type": "markdown",
   "metadata": {},
   "source": [
    "Next, edit the `settings.ini` file in your cloned repo. This file contains all the necessary information for when you'll be ready to package your library. The basic structure (that can be personalized provided you change the relevant information in `settings.ini`) is that the root of the repo will contain your notebooks, the `docs` folder will contain your auto-generated docs, and a folder with a name you select will contain your auto-generated modules."
   ]
  },
  {
   "cell_type": "markdown",
   "metadata": {},
   "source": [
    "You'll see these commented out lines in `settings.ini`. Uncomment them, and set each value as needed.\n",
    "\n",
    "```\n",
    "# lib_name = your_project_name\n",
    "# repo_name = name of github repo\n",
    "# user = your_github_username\n",
    "# description = A description of your project\n",
    "# keywords = some keywords\n",
    "# author = Your Name\n",
    "# author_email = email@example.com\n",
    "# copyright = Your Name or Company Name\n",
    "# branch = The default branch of your GitHub repo (usually either master or main)\n",
    "```\n",
    "\n",
    "We'll see some other settings we can change later."
   ]
  },
  {
   "cell_type": "markdown",
   "metadata": {},
   "source": [
    "## Install git hooks to avoid and handle conflicts"
   ]
  },
  {
   "cell_type": "markdown",
   "metadata": {},
   "source": [
    "Jupyter Notebooks can cause challenges with git conflicts, but life becomes much easier when you use `nbprocess`. As a first step, run `nbprocess_install_hooks` in the terminal from your project folder. This will set up hooks which will remove metadata from your notebooks when you commit, greatly reducing the chance you have a conflict.\n",
    "\n",
    "But if you do get a conflict later, simply run `nbprocess_clean filename.ipynb`. This will replace any conflicts in cell outputs with your version, and if there are conflicts in input cells, then both cells will be included in the merged file, along with standard conflict markers (e.g. `=====`). Then you can open the notebook in Jupyter and choose which version to keep."
   ]
  },
  {
   "cell_type": "markdown",
   "metadata": {},
   "source": [
    "## Start the Documentation Server\n",
    "\n",
    "You can call `make preview` from the root of the repo to start the documentation server so you can see how your docs will render as you edit your notebooks.  This is optional, but often useful especially if you are writing docs."
   ]
  },
  {
   "cell_type": "markdown",
   "metadata": {},
   "source": [
    "## Edit 00_core.ipynb"
   ]
  },
  {
   "cell_type": "markdown",
   "metadata": {},
   "source": [
    "Now, run `jupyter notebook`, and click `00_core.ipynb` (you don't *have* to start your notebook names with a number like we do here; but we find it helpful to show the order you've created your project in). You'll see something that looks a bit like this:\n",
    "\n",
    "```python\n",
    "#|default_exp core\n",
    "```\n",
    "\n",
    "**module name here**\n",
    "\n",
    "> API details.\n",
    "\n",
    "Let's explain what these special cells mean."
   ]
  },
  {
   "cell_type": "markdown",
   "metadata": {},
   "source": [
    "### Module name and summary"
   ]
  },
  {
   "cell_type": "markdown",
   "metadata": {},
   "source": [
    "The markdown cell uses special syntax to define the title and summary of your module. Feel free to replace \"module name here\" with a title and \"API details.\" with a summary for your module."
   ]
  },
  {
   "cell_type": "markdown",
   "metadata": {},
   "source": [
    "### Add a function"
   ]
  },
  {
   "cell_type": "markdown",
   "metadata": {},
   "source": [
    "Let's add a function to this notebook, e.g.:\n",
    "\n",
    "```python\n",
    "#|export\n",
    "def say_hello(to):\n",
    "    \"Say hello to somebody\"\n",
    "    return f'Hello {to}!'\n",
    "```\n",
    "\n",
    "Notice how it includes `#|export` at the top - this means it will be included in your module, and documentation. The documentation will look like this:"
   ]
  },
  {
   "cell_type": "code",
   "execution_count": null,
   "metadata": {},
   "outputs": [],
   "source": [
    "#|export\n",
    "def say_hello(to):\n",
    "    \"Say hello to somebody\"\n",
    "    return f'Hello {to}!'"
   ]
  },
  {
   "cell_type": "markdown",
   "metadata": {},
   "source": [
    "### Add examples and tests"
   ]
  },
  {
   "cell_type": "markdown",
   "metadata": {},
   "source": [
    "It's a good idea to give an example of your function in action. Just include regular code cells, and they'll appear (with output) in the docs, e.g.:"
   ]
  },
  {
   "cell_type": "code",
   "execution_count": null,
   "metadata": {},
   "outputs": [],
   "source": [
    "say_hello(\"Isaac\")"
   ]
  },
  {
   "cell_type": "markdown",
   "metadata": {},
   "source": [
    "Examples can output plots, images, etc, and they'll all appear in your docs, e.g.:"
   ]
  },
  {
   "cell_type": "code",
   "execution_count": null,
   "metadata": {},
   "outputs": [],
   "source": [
    "from IPython.display import display,SVG"
   ]
  },
  {
   "cell_type": "code",
   "execution_count": null,
   "metadata": {},
   "outputs": [],
   "source": [
    "display(SVG('<svg height=\"100\"><circle cx=\"50\" cy=\"50\" r=\"40\"/></svg>'))"
   ]
  },
  {
   "cell_type": "markdown",
   "metadata": {},
   "source": [
    "You can also include tests:"
   ]
  },
  {
   "cell_type": "code",
   "execution_count": null,
   "metadata": {},
   "outputs": [],
   "source": [
    "assert say_hello(\"Hamel\")==\"Hello Hamel!\""
   ]
  },
  {
   "cell_type": "markdown",
   "metadata": {},
   "source": [
    "You should also add markdown headings as you create your notebook; one benefit of this is that a table of contents will be created in the documentation automatically."
   ]
  },
  {
   "cell_type": "markdown",
   "metadata": {},
   "source": [
    "## Edit index.ipynb"
   ]
  },
  {
   "cell_type": "markdown",
   "metadata": {},
   "source": [
    "Now you're ready to create your documentation home page and README.md file; these are both generated automatically from *index.ipynb*. So click on that to open it now.\n",
    "\n",
    "You'll see that there's already a line there to import your library - change it to use the name you selected in `settings.ini`. Then, add information about how to use your module, including some examples. Remember, these examples should be actual notebook code cells with real outputs."
   ]
  },
  {
   "cell_type": "markdown",
   "metadata": {},
   "source": [
    "## Build lib + test"
   ]
  },
  {
   "cell_type": "markdown",
   "metadata": {},
   "source": [
    "Now you can create your python module. To do so, just run `make prepare` from the terminal at the root of your project folder. `make prepare` bundles the following commands together for you to test your code and build the library.  While running `make prepare` is convenient, you have the flexibility to choose these seperate pieces.\n",
    "- `nbprocess_export`: Builds the .py modules and library from the jupyter notebook\n",
    "- `nbprocess_test`: Tests all your notebooks\n",
    "- `nbprocess_clean`: Cleans your notebooks to get rid of extreanous output for Github\n",
    "\n",
    "\n",
    "Sometimes you may want to ensure you have the latest version of your python library installed for tests to run correctly.  You can run `make install_py` to do an editable install which will ensure that any local testing will reflect the latest changes in your code. "
   ]
  },
  {
   "cell_type": "markdown",
   "metadata": {},
   "source": [
    "## Preview The docs\n",
    "\n",
    "If you have not already, you should view your docs in fully rendered form to catch any mistakes.  You can preview your documentation site with the command `make preview`.  Note that your docs will build automatically in CI (discussed below)."
   ]
  },
  {
   "cell_type": "markdown",
   "metadata": {},
   "source": [
    "## Commit to Github"
   ]
  },
  {
   "cell_type": "markdown",
   "metadata": {},
   "source": [
    "You can now check-in the generated files with `git add`, `git commit` and `git push`. (You can use `git status` to check which files have been generated.) The following command should be sufficient:\n",
    "```\n",
    "git add -A; git commit -m'check in files'; git push\n",
    "```\n",
    "Wait a minute or two for Github to process your commit, and then head over to the Github website to look at your results."
   ]
  },
  {
   "cell_type": "markdown",
   "metadata": {},
   "source": [
    "### Continuous Integration (CI)"
   ]
  },
  {
   "cell_type": "markdown",
   "metadata": {},
   "source": [
    "Back in your project's Github main page, click where it says *1 commit* (or *2 commits* or whatever). Hopefully, you'll see a green checkmark next to your latest commit. That means that your documentation site built correctly, and your module's tests all passed! This is checked for you using *continuous integration (CI)* with [GitHub actions](https://github.com/features/actions). This does the following:\n",
    "\n",
    "- check the notebooks have been cleaned of needless metadata to avoid merge conflicts (with `nbprocess_clean`)\n",
    "- run the tests in your notebooks (with `nbprocess_test`)\n",
    "\n",
    "The template contains a basic CI that uses the two points above, edit the file `.github/workflows/test.yaml` to your liking and comment out the parts you don't want.\n",
    "\n",
    "If you have a red cross, that means something failed. Click on the cross, then click *Details*, and you'll be able to see what failed.\n",
    "\n",
    "#### Automatically Building Docs\n",
    "\n",
    "CI will automatically build docs and deploy them for you.  You can see the code for this in `.github/workflows/deploy.yaml`, but you normally don't have to worry about this unless you need to customize something.  There might be certain circumstances in which your organization has disabled GitHub pages by default.  If this is the case, you can enable Github Pages by clicking on the  *Settings* tab in your repo, then click *Pages* on the left side bar.  Set \"Source\" to *`gh-pages` branch and the `/root` folder*. Once you've saved, if you refresh that page, Github will have a link to your new website. Copy that URL, and then go back to your main repo page, click \"edit\" next to the description and paste the URL into the \"website\" section. While you're there, go ahead and put in your project description too. \n",
    "\n",
    "#### Docs URL\n",
    "\n",
    "To see the URL for your docs site, you can go to the `Settings` tab on your GitHub repo, click `Pages` on the left hand side, and your URL will be displayed there.  If you need to customize the domain name, see [this article](https://docs.github.com/en/pages/configuring-a-custom-domain-for-your-github-pages-site/managing-a-custom-domain-for-your-github-pages-site)."
   ]
  },
  {
   "cell_type": "markdown",
   "metadata": {},
   "source": [
    "### View docs and readme"
   ]
  },
  {
   "cell_type": "markdown",
   "metadata": {},
   "source": [
    "Once everything is passing, have a look at your readme in Github. You'll see that your `index.ipynb` file has been converted to a readme automatically.\n",
    "\n",
    "Next, go to your documentation site (e.g. by clicking on the link next to the description that you created earlier). You should see that your index notebook has also been used here.\n",
    "\n",
    "Congratulations, the basics are now all in place! Let's continue and use some more advanced functionality."
   ]
  },
  {
   "cell_type": "markdown",
   "metadata": {},
   "source": [
    "## Add a class"
   ]
  },
  {
   "cell_type": "markdown",
   "metadata": {},
   "source": [
    "Create a class in `00_core.ipynb` as follows:\n",
    "\n",
    "```python\n",
    "#|export\n",
    "class HelloSayer:\n",
    "    \"Say hello to `to` using `say_hello`\"\n",
    "    def __init__(self, to): self.to = to\n",
    "        \n",
    "    def say(self):\n",
    "        \"Do the saying\"\n",
    "        return say_hello(self.to)\n",
    "```\n",
    "\n",
    "This will automatically appear in the docs like this:"
   ]
  },
  {
   "cell_type": "code",
   "execution_count": null,
   "metadata": {},
   "outputs": [],
   "source": [
    "#|export\n",
    "class HelloSayer:\n",
    "    \"Say hello to `to` using `say_hello`\"\n",
    "    def __init__(self, to): self.to = to\n",
    "\n",
    "    def say(self):\n",
    "        \"Do the saying\"\n",
    "        return say_hello(self.to)"
   ]
  },
  {
   "cell_type": "markdown",
   "metadata": {},
   "source": [
    "### Document with show_doc"
   ]
  },
  {
   "cell_type": "markdown",
   "metadata": {},
   "source": [
    "However, methods aren't automatically documented. To add method docs, use `show_doc`:\n",
    "\n",
    "```python\n",
    "show_doc(HelloSayer.say)\n",
    "```"
   ]
  },
  {
   "cell_type": "code",
   "execution_count": null,
   "metadata": {},
   "outputs": [],
   "source": [
    "show_doc(HelloSayer.say)"
   ]
  },
  {
   "cell_type": "markdown",
   "metadata": {},
   "source": [
    "And add some examples and/or tests:"
   ]
  },
  {
   "cell_type": "code",
   "execution_count": null,
   "metadata": {},
   "outputs": [],
   "source": [
    "o = HelloSayer(\"Alexis\")\n",
    "o.say()"
   ]
  },
  {
   "cell_type": "markdown",
   "metadata": {},
   "source": [
    "## Add links with backticks"
   ]
  },
  {
   "cell_type": "markdown",
   "metadata": {},
   "source": [
    "Notice above there is a link from our new class documentation to our function. That's because we used backticks in the docstring:\n",
    "```python\n",
    "    \"Say hello to `to` using `say_hello`\"\n",
    "```\n",
    "These are automatically converted to hyperlinks wherever possible. For instance, here are hyperlinks to `HelloSayer` and `say_hello` created using backticks."
   ]
  },
  {
   "cell_type": "markdown",
   "metadata": {},
   "source": [
    "## Set up autoreload"
   ]
  },
  {
   "cell_type": "markdown",
   "metadata": {},
   "source": [
    "Since you'll be often updating your modules from one notebook, and using them in another, it's helpful if your notebook automatically reads in the new modules as soon as the python file changes. To make this happen, just add these lines to the top of your notebook:\n",
    "\n",
    "```\n",
    "%load_ext autoreload\n",
    "%autoreload 2\n",
    "```"
   ]
  },
  {
   "cell_type": "markdown",
   "metadata": {},
   "source": [
    "## Add in-notebook export cell"
   ]
  },
  {
   "cell_type": "markdown",
   "metadata": {},
   "source": [
    "It's helpful to be able to export all your modules directly from a notebook, rather than going to the terminal to do it. All nbprocess commands are available directly from a notebook in Python. Add this line to any cell and run it to export your modules (I normally make this the last cell of my notebooks).\n",
    "\n",
    "```python\n",
    "from nbprocess.doclinks import nbprocess_export\n",
    "nbprocess_export()\n",
    "```"
   ]
  },
  {
   "cell_type": "markdown",
   "metadata": {},
   "source": [
    "## Run tests in parallel"
   ]
  },
  {
   "cell_type": "markdown",
   "metadata": {},
   "source": [
    "Before you push to github or make a release, you might want to run all your tests. nbprocess can run all your notebooks in parallel to check for errors. Just run `nbprocess_test` in a terminal."
   ]
  },
  {
   "cell_type": "markdown",
   "metadata": {},
   "source": [
    "## View docs locally"
   ]
  },
  {
   "cell_type": "markdown",
   "metadata": {},
   "source": [
    "If you want to look at your docs locally before you push to Github, you can do so by running `make preview`."
   ]
  },
  {
   "cell_type": "markdown",
   "metadata": {},
   "source": [
    "## Set up prerequisites"
   ]
  },
  {
   "cell_type": "markdown",
   "metadata": {},
   "source": [
    "If your module requires other modules as dependencies, you can add those prerequisites to your `settings.ini` in the `requirements` section. The requirements should be separated by a space and if the module requires at least or at most a specific version of the requirement this may be specified here, too.\n",
    "\n",
    "For example if your module requires the `fastcore` module of at least version 1.0.5, the `torchvision` module of at most version 0.7 and any version of `matplotlib`, then the prerequisites would look like this:\n",
    "```python\n",
    "requirements = fastcore>=1.0.5 torchvision<0.7 matplotlib\n",
    "```\n",
    "\n",
    "In addition to `requirements` you can specify dependencies with other keywords that have different scopes.  Below is a list of all possible dependency keywords:\n",
    "\n",
    "- `requirements`: Passed to both pip and conda setup\n",
    "- `pip_requirements`: Passed to pip setup only\n",
    "- `conda_requirements`: Passed to conda setup only\n",
    "- `dev_requirements`: Passed to pip setup as a development requirement\n",
    "\n",
    "For more information about the format of dependencies, see the pypi and conda docs on creating specifications in [setup.py](https://packaging.python.org/tutorials/packaging-projects/#creating-setup-py) and [meta.yaml](https://docs.conda.io/projects/conda-build/en/latest/resources/define-metadata.html), respectively."
   ]
  },
  {
   "cell_type": "markdown",
   "metadata": {},
   "source": [
    "## Set up console scripts"
   ]
  },
  {
   "cell_type": "markdown",
   "metadata": {},
   "source": [
    "Behind the scenes, nbprocess uses that standard package `setuptools` for handling installation of modules. One very useful feature of `setuptools` is that it can automatically create [cross-platform console scripts](https://python-packaging.readthedocs.io/en/latest/command-line-scripts.html#the-console-scripts-entry-point). nbprocess surfaces this functionality; to use it, use the same format as `setuptools`, with whitespace between each script definition (if you have more than one).\n",
    "\n",
    "```\n",
    "console_scripts = nbprocess_export=nbprocess.cli:nbprocess_export\n",
    "```"
   ]
  },
  {
   "cell_type": "markdown",
   "metadata": {},
   "source": [
    "## Test with editable install"
   ]
  },
  {
   "cell_type": "markdown",
   "metadata": {},
   "source": [
    "To test and use your modules in other projects, and use your console scripts (if you have any), the easiest approach is to use an [editable install](http://codumentary.blogspot.com/2014/11/python-tip-of-year-pip-install-editable.html). To do this, `cd` to the root of your repo in the terminal, and type:\n",
    "```\n",
    "pip install -e .\n",
    "```\n",
    "(Note that the trailing period is important.) Your module changes will be automatically picked up without reinstalling. If you add any additional console scripts, you will need to run this command again.  After doing an editable install you can run `nbprocess_test` to run all of the tests in your notebooks."
   ]
  },
  {
   "cell_type": "markdown",
   "metadata": {},
   "source": [
    "## Upload to pypi"
   ]
  },
  {
   "cell_type": "markdown",
   "metadata": {},
   "source": [
    "If you want people to be able to install your project by just typing `pip install your-project` then you need to upload it to [pypi](https://pypi.org/). The good news is, we've already created a fully pypi compliant installer for your project! So all you need to do is register at pypi (click \"Register\" on pypi) if you haven't previously done so, and then create a file called `~/.pypirc` with your login details. It should have these contents:\n",
    "\n",
    "```\n",
    "[pypi]\n",
    "username = your_pypi_username\n",
    "password = your_pypi_password\n",
    "```\n",
    "\n",
    "Another thing you will need is `twine`, so you should run once\n",
    "\n",
    "``` \n",
    "pip install twine\n",
    "```\n",
    "\n",
    "To upload your project to pypi, just type `make release_pypi` in your project root directory. Once it's complete, a link to your project on pypi will be printed.  \n",
    "\n",
    "\n",
    "## Upload to pypi and conda\n",
    "\n",
    "The command `make release` from the root of your nbprocess repo will bump the version of your module and upload your project to both conda and pypi."
   ]
  },
  {
   "cell_type": "markdown",
   "metadata": {},
   "source": [
    "## Install collapsible headings and toc2"
   ]
  },
  {
   "cell_type": "markdown",
   "metadata": {},
   "source": [
    "There are two jupyter notebook extensions that I highly recommend when working with projects like this. They are:\n",
    "\n",
    "- [Collapsible headings](https://jupyter-contrib-nbextensions.readthedocs.io/en/latest/nbextensions/collapsible_headings/readme.html): This lets you fold and unfold each section in your notebook, based on its markdown headings. You can also hit <kbd>left</kbd> to go to the start of a section, and <kbd>right</kbd> to go to the end\n",
    "- [TOC2](https://jupyter-contrib-nbextensions.readthedocs.io/en/latest/nbextensions/toc2/README.html): This adds a table of contents to your notebooks, which you can navigate either with the `Navigate` menu item it adds to your notebooks, or the TOC sidebar it adds. These can be modified and/or hidden using its settings."
   ]
  },
  {
   "cell_type": "markdown",
   "metadata": {},
   "source": [
    "## Math equation support"
   ]
  },
  {
   "cell_type": "markdown",
   "metadata": {},
   "source": [
    "nbprocess supports equations (using [Quarto](https://quarto.org/)). You can include math in your notebook's documentation using the following methods."
   ]
  },
  {
   "cell_type": "markdown",
   "metadata": {},
   "source": [
    "Using `$$`, e.g.:\n",
    "\n",
    "```\n",
    "$$\\sum_{i=1}^{k+1}i$$\n",
    "```\n",
    "\n",
    "Which is rendered as:\n",
    "\n",
    "> $$\\sum_{i=1}^{k+1}i$$"
   ]
  },
  {
   "cell_type": "markdown",
   "metadata": {},
   "source": [
    "Using `$`, e.g.:\n",
    "\n",
    "```\n",
    "This version is displayed inline: $\\sum_{i=1}^{k+1}i$ . You can include text before and after.\n",
    "```\n",
    "\n",
    "Which is rendered as:"
   ]
  },
  {
   "cell_type": "markdown",
   "metadata": {},
   "source": [
    "> This version is displayed inline: $\\sum_{i=1}^{k+1}i$ . You can include text before and after."
   ]
  },
  {
   "cell_type": "markdown",
   "metadata": {},
   "source": [
    "For more information, see [the Quarto Docs](https://quarto.org/docs/visual-editor/technical.html)"
   ]
  },
  {
   "cell_type": "markdown",
   "metadata": {},
   "source": [
    "## Look at nbprocess \"source\" for more ideas"
   ]
  },
  {
   "cell_type": "markdown",
   "metadata": {},
   "source": [
    "Don't forget that nbprocess itself is written in nbprocess! It's a good place to look to see how fast.ai uses it in practice, and get a few tips. You'll find the nbprocess notebooks here in the [nbs folder](https://github.com/fastai/nbprocess/tree/master/nbs) on Github."
   ]
  },
  {
   "cell_type": "code",
   "execution_count": null,
   "metadata": {},
   "outputs": [],
   "source": []
  }
 ],
 "metadata": {
  "jekyll": {
   "keywords": "fastai",
   "toc": "false"
  },
  "jupytext": {
   "split_at_heading": true
  },
  "kernelspec": {
   "display_name": "Python 3 (ipykernel)",
   "language": "python",
   "name": "python3"
  }
 },
 "nbformat": 4,
 "nbformat_minor": 4
}
