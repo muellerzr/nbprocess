{
 "cells": [
  {
   "cell_type": "code",
   "execution_count": null,
   "metadata": {
    "hide_input": false
   },
   "outputs": [],
   "source": [
    "#|default_exp lookup\n",
    "#|default_cls_lvl 3"
   ]
  },
  {
   "cell_type": "markdown",
   "metadata": {},
   "source": [
    "# Doc lookup\n",
    "\n",
    "> Convert backticks to links"
   ]
  },
  {
   "cell_type": "code",
   "execution_count": null,
   "metadata": {},
   "outputs": [],
   "source": [
    "#|export\n",
    "from nbprocess.imports import *\n",
    "from nbprocess.read import *\n",
    "from nbprocess.export import *\n",
    "from nbprocess.doclinks import *\n",
    "from fastcore.basics import *\n",
    "from fastcore.imports import *\n",
    "from importlib import import_module\n",
    "\n",
    "import pkg_resources,importlib\n",
    "\n",
    "if IN_NOTEBOOK:\n",
    "    from IPython.display import Markdown,display\n",
    "    from IPython.core import page\n",
    "else: Markdown,display,page = None,None,None"
   ]
  },
  {
   "cell_type": "code",
   "execution_count": null,
   "metadata": {},
   "outputs": [],
   "source": [
    "#|hide\n",
    "from fastcore.test import *"
   ]
  },
  {
   "cell_type": "code",
   "execution_count": null,
   "metadata": {},
   "outputs": [],
   "source": [
    "#|export\n",
    "class NbdevLookup:\n",
    "    \"Mapping from symbol names to URLs with docs\"\n",
    "    def __init__(self, strip_libs=None, incl_libs=None, skip_mods=None):\n",
    "        skip_mods = setify(skip_mods)\n",
    "        strip_libs = L(strip_libs)\n",
    "        if incl_libs is not None: incl_libs = (L(incl_libs)+strip_libs).unique()\n",
    "        # Dict from lib name to _nbprocess module for incl_libs (defaults to all)\n",
    "        self.entries = {o.name: o.load() for o in pkg_resources.iter_entry_points(group='nbdev')\n",
    "                       if incl_libs is None or o.dist.key in incl_libs}\n",
    "        py_syms = merge(*L(o['syms'].values() for o in self.entries.values()).concat())\n",
    "        for m in strip_libs:\n",
    "            _d = self.entries[m]\n",
    "            stripped = {remove_prefix(k,f\"{mod}.\"):v\n",
    "                        for mod,dets in _d['syms'].items() if mod not in skip_mods\n",
    "                        for k,v in dets.items()}\n",
    "            py_syms = merge(stripped, py_syms)\n",
    "        self.syms = py_syms\n",
    "\n",
    "    def __getitem__(self, s): return self.syms.get(s, None)"
   ]
  },
  {
   "cell_type": "markdown",
   "metadata": {},
   "source": [
    "Symbol names are taken from libraries registered using the 'nbprocess' entry point. By default, all libraries with this entry point are searched, but full symbol names (including module prefix) are required."
   ]
  },
  {
   "cell_type": "code",
   "execution_count": null,
   "metadata": {},
   "outputs": [],
   "source": [
    "c = NbdevLookup()\n",
    "assert c['nbprocess.doclinks.DocLinks'].startswith('http')\n",
    "assert c['numpy.array'].startswith('http')\n",
    "assert not c['DocLinks']"
   ]
  },
  {
   "cell_type": "markdown",
   "metadata": {},
   "source": [
    "Pass `strip_libs` to list libraries which should be available without requiring a module prefix."
   ]
  },
  {
   "cell_type": "code",
   "execution_count": null,
   "metadata": {},
   "outputs": [],
   "source": [
    "c = NbdevLookup(strip_libs=['nbprocess', 'nbdev_numpy'])\n",
    "assert c['array'].startswith('http')\n",
    "assert c['DocLinks'].startswith('http')"
   ]
  },
  {
   "cell_type": "code",
   "execution_count": null,
   "metadata": {},
   "outputs": [],
   "source": [
    "#|export\n",
    "def _libs():\n",
    "    \"Get `strip_libs` from settings.ini if it exists, otherwhise return 'nbprocess'.\"\n",
    "    try: #settings.ini doesn't exist yet until you call nbprocess_new, but you still want to be able to import the library.\n",
    "        cfg = get_config()\n",
    "        modidx = import_module(f\"{get_config()['lib_name']}._modidx\")\n",
    "        _settings = modidx.d['settings']\n",
    "        return  _settings.get('strip_libs',_settings.get('lib_name')).split()\n",
    "    except FileNotFoundError: return 'nbprocess'\n",
    "\n",
    "nbprocess_lookup = NbdevLookup(_libs())"
   ]
  },
  {
   "cell_type": "markdown",
   "metadata": {},
   "source": [
    "nbprocess itself includes `nbdev_lookup`, an instantiated `NbdevLookup` with `strip_libs=nbprocess`."
   ]
  },
  {
   "cell_type": "code",
   "execution_count": null,
   "metadata": {},
   "outputs": [],
   "source": [
    "assert nbprocess_lookup['DocLinks'].startswith('http')\n",
    "assert nbprocess_lookup['numpy.array'].startswith('http')\n",
    "assert not nbprocess_lookup['array']"
   ]
  },
  {
   "cell_type": "markdown",
   "metadata": {},
   "source": [
    "## Backticks"
   ]
  },
  {
   "cell_type": "code",
   "execution_count": null,
   "metadata": {},
   "outputs": [],
   "source": [
    "#|export\n",
    "@patch\n",
    "def _link_sym(self:NbdevLookup, m):\n",
    "    l = m.group(1)\n",
    "    s = self[l]\n",
    "    if s is None: return m.group(0)\n",
    "    return rf\"[{l}]({s})\"\n",
    "\n",
    "_re_backticks = re.compile(r'`([^`\\s]+)`')\n",
    "@patch\n",
    "def link_line(self:NbdevLookup, l): return _re_backticks.sub(self._link_sym, l)\n",
    "\n",
    "@patch\n",
    "def linkify(self:NbdevLookup, md):\n",
    "    if md:\n",
    "        in_fence=False\n",
    "        lines = md.splitlines()\n",
    "        for i,l in enumerate(lines):\n",
    "            if l.startswith(\"```\"): in_fence=not in_fence\n",
    "            elif not l.startswith('    ') and not in_fence: lines[i] = self.link_line(l)\n",
    "        return '\\n'.join(lines)"
   ]
  },
  {
   "cell_type": "code",
   "execution_count": null,
   "metadata": {},
   "outputs": [],
   "source": [
    "md = \"\"\"This is a link to `numpy.array` and to `read_nb` but not a link to `foobar`.\n",
    "And not a link to <code>dict2nb</code>.\n",
    "\n",
    "    This is not a link to `read_nb`\n",
    "\n",
    "```\n",
    "This isn't a link to `read_nb` either\n",
    "```\"\"\""
   ]
  },
  {
   "cell_type": "code",
   "execution_count": null,
   "metadata": {},
   "outputs": [
    {
     "data": {
      "text/markdown": [
       "This is a link to [numpy.array](https://numpy.org/doc/stable/reference/generated/numpy.array.html#numpy.array) and to `read_nb` but not a link to `foobar`.\n",
       "And not a link to <code>dict2nb</code>.\n",
       "\n",
       "    This is not a link to `read_nb`\n",
       "\n",
       "```\n",
       "This isn't a link to `read_nb` either\n",
       "```"
      ],
      "text/plain": [
       "<IPython.core.display.Markdown object>"
      ]
     },
     "execution_count": null,
     "metadata": {},
     "output_type": "execute_result"
    }
   ],
   "source": [
    "#|eval: false\n",
    "c = NbdevLookup('nbprocess')\n",
    "Markdown(c.linkify(md))"
   ]
  },
  {
   "cell_type": "markdown",
   "metadata": {},
   "source": [
    "## Export -"
   ]
  },
  {
   "cell_type": "code",
   "execution_count": null,
   "metadata": {},
   "outputs": [],
   "source": [
    "#|hide\n",
    "#|eval: false\n",
    "from nbprocess.doclinks import nbprocess_export\n",
    "nbprocess_export()"
   ]
  },
  {
   "cell_type": "code",
   "execution_count": null,
   "metadata": {},
   "outputs": [],
   "source": []
  }
 ],
 "metadata": {
  "jupytext": {
   "split_at_heading": true
  },
  "kernelspec": {
   "display_name": "Python 3 (ipykernel)",
   "language": "python",
   "name": "python3"
  }
 },
 "nbformat": 4,
 "nbformat_minor": 4
}
